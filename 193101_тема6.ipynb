{
 "cells": [
  {
   "cell_type": "markdown",
   "id": "7e05d730-6cbe-41db-828e-99db09638f84",
   "metadata": {},
   "source": [
    "# СОБИРАЊЕ НА ПОДАТОЦИ И КРЕИРАЊЕ НА ДАТАСЕТИ ОД ПРЕБАРАНИ САЈТОВИ КОИ ПРОДАВААТ ЛАПТОПИ ВО МАКЕДОНИЈА\n"
   ]
  },
  {
   "cell_type": "code",
   "execution_count": 27,
   "id": "d28a864f-5c30-4fa1-b16d-dcb7afabb348",
   "metadata": {},
   "outputs": [
    {
     "name": "stdout",
     "output_type": "stream",
     "text": [
      "Requirement already satisfied: selenium in c:\\users\\anton\\appdata\\local\\programs\\python\\python313\\lib\\site-packages (4.32.0)\n",
      "Requirement already satisfied: urllib3<3,>=1.26 in c:\\users\\anton\\appdata\\local\\programs\\python\\python313\\lib\\site-packages (from urllib3[socks]<3,>=1.26->selenium) (2.4.0)\n",
      "Requirement already satisfied: trio~=0.17 in c:\\users\\anton\\appdata\\local\\programs\\python\\python313\\lib\\site-packages (from selenium) (0.30.0)\n",
      "Requirement already satisfied: trio-websocket~=0.9 in c:\\users\\anton\\appdata\\local\\programs\\python\\python313\\lib\\site-packages (from selenium) (0.12.2)\n",
      "Requirement already satisfied: certifi>=2021.10.8 in c:\\users\\anton\\appdata\\local\\programs\\python\\python313\\lib\\site-packages (from selenium) (2025.4.26)\n",
      "Requirement already satisfied: typing_extensions~=4.9 in c:\\users\\anton\\appdata\\local\\programs\\python\\python313\\lib\\site-packages (from selenium) (4.13.2)\n",
      "Requirement already satisfied: websocket-client~=1.8 in c:\\users\\anton\\appdata\\local\\programs\\python\\python313\\lib\\site-packages (from selenium) (1.8.0)\n",
      "Requirement already satisfied: attrs>=23.2.0 in c:\\users\\anton\\appdata\\local\\programs\\python\\python313\\lib\\site-packages (from trio~=0.17->selenium) (25.3.0)\n",
      "Requirement already satisfied: sortedcontainers in c:\\users\\anton\\appdata\\local\\programs\\python\\python313\\lib\\site-packages (from trio~=0.17->selenium) (2.4.0)\n",
      "Requirement already satisfied: idna in c:\\users\\anton\\appdata\\local\\programs\\python\\python313\\lib\\site-packages (from trio~=0.17->selenium) (3.10)\n",
      "Requirement already satisfied: outcome in c:\\users\\anton\\appdata\\local\\programs\\python\\python313\\lib\\site-packages (from trio~=0.17->selenium) (1.3.0.post0)\n",
      "Requirement already satisfied: sniffio>=1.3.0 in c:\\users\\anton\\appdata\\local\\programs\\python\\python313\\lib\\site-packages (from trio~=0.17->selenium) (1.3.1)\n",
      "Requirement already satisfied: cffi>=1.14 in c:\\users\\anton\\appdata\\local\\programs\\python\\python313\\lib\\site-packages (from trio~=0.17->selenium) (1.17.1)\n",
      "Requirement already satisfied: wsproto>=0.14 in c:\\users\\anton\\appdata\\local\\programs\\python\\python313\\lib\\site-packages (from trio-websocket~=0.9->selenium) (1.2.0)\n",
      "Requirement already satisfied: pysocks!=1.5.7,<2.0,>=1.5.6 in c:\\users\\anton\\appdata\\local\\programs\\python\\python313\\lib\\site-packages (from urllib3[socks]<3,>=1.26->selenium) (1.7.1)\n",
      "Requirement already satisfied: pycparser in c:\\users\\anton\\appdata\\local\\programs\\python\\python313\\lib\\site-packages (from cffi>=1.14->trio~=0.17->selenium) (2.22)\n",
      "Requirement already satisfied: h11<1,>=0.9.0 in c:\\users\\anton\\appdata\\local\\programs\\python\\python313\\lib\\site-packages (from wsproto>=0.14->trio-websocket~=0.9->selenium) (0.16.0)\n"
     ]
    },
    {
     "name": "stderr",
     "output_type": "stream",
     "text": [
      "\n",
      "[notice] A new release of pip is available: 25.0.1 -> 25.1.1\n",
      "[notice] To update, run: python.exe -m pip install --upgrade pip\n"
     ]
    }
   ],
   "source": [
    "!pip install selenium\n"
   ]
  },
  {
   "cell_type": "code",
   "execution_count": 28,
   "id": "69b4b93f-7fd0-411f-a51b-ab5a71b803c3",
   "metadata": {},
   "outputs": [
    {
     "name": "stdout",
     "output_type": "stream",
     "text": [
      "Requirement already satisfied: pandas in c:\\users\\anton\\appdata\\local\\programs\\python\\python313\\lib\\site-packages (2.2.3)\n",
      "Requirement already satisfied: numpy>=1.26.0 in c:\\users\\anton\\appdata\\local\\programs\\python\\python313\\lib\\site-packages (from pandas) (2.2.5)\n",
      "Requirement already satisfied: python-dateutil>=2.8.2 in c:\\users\\anton\\appdata\\local\\programs\\python\\python313\\lib\\site-packages (from pandas) (2.9.0.post0)\n",
      "Requirement already satisfied: pytz>=2020.1 in c:\\users\\anton\\appdata\\local\\programs\\python\\python313\\lib\\site-packages (from pandas) (2025.2)\n",
      "Requirement already satisfied: tzdata>=2022.7 in c:\\users\\anton\\appdata\\local\\programs\\python\\python313\\lib\\site-packages (from pandas) (2025.2)\n",
      "Requirement already satisfied: six>=1.5 in c:\\users\\anton\\appdata\\local\\programs\\python\\python313\\lib\\site-packages (from python-dateutil>=2.8.2->pandas) (1.17.0)\n"
     ]
    },
    {
     "name": "stderr",
     "output_type": "stream",
     "text": [
      "\n",
      "[notice] A new release of pip is available: 25.0.1 -> 25.1.1\n",
      "[notice] To update, run: python.exe -m pip install --upgrade pip\n"
     ]
    }
   ],
   "source": [
    "!pip install pandas"
   ]
  },
  {
   "cell_type": "markdown",
   "id": "ce689da2-3c0b-4360-89ae-673c451b06a2",
   "metadata": {},
   "source": [
    "# КОРИСНИ ФУНКЦИИ И ИМПОРТИРАЊЕ НА БИБЛИОТЕКИ\n"
   ]
  },
  {
   "cell_type": "markdown",
   "id": "f14964c3-16d4-4bb6-be7e-ea4520217d0a",
   "metadata": {},
   "source": [
    "**Импортирање на потребни библиотеки**"
   ]
  },
  {
   "cell_type": "code",
   "execution_count": 29,
   "id": "bc2c3524-1be8-4964-a018-92b0eba241b2",
   "metadata": {},
   "outputs": [],
   "source": [
    "from selenium import webdriver\n",
    "from selenium.webdriver.chrome.service import Service\n",
    "from selenium.webdriver.chrome.options import Options\n",
    "from bs4 import BeautifulSoup\n",
    "import pandas as pd\n",
    "import time\n",
    "import html\n",
    "import re"
   ]
  },
  {
   "cell_type": "markdown",
   "id": "58c01896-1a01-4ed3-9443-7d6ac88e6e6a",
   "metadata": {},
   "source": [
    "**Функција за земање на капацитетот на меморија за секој лаптоп**"
   ]
  },
  {
   "cell_type": "code",
   "execution_count": 30,
   "id": "28105754-75bf-49b7-8efb-3276b3054a2f",
   "metadata": {},
   "outputs": [],
   "source": [
    "def extract_storage(title):\n",
    "    if not isinstance(title, str):\n",
    "        return None\n",
    "\n",
    "    title = title.upper()\n",
    "    title = title.replace(\" / \", \" \").replace(\"+\", \" \")\n",
    "    title = title.replace(\"ТБ\", \"TB\").replace(\"ГБ\", \"GB\")  # за секој случај за случајна појава на кирлица\n",
    "    title = re.sub(r'([A-Z])(\\d+GB)', r'\\1 \\2', title)     #  за зборовите кои се споени или се без празно место меѓу нив.\n",
    "    title = re.sub(r'(\\d+GB)(\\d+(?:GB|TB))', r'\\1 \\2', title)\n",
    "\n",
    "    matches = re.findall(r'(\\d+(?:\\.\\d+)?)(?:\\s*)(TB|GB)(?:\\s*(SSD|HDD)?)?', title)\n",
    "\n",
    "    results = set()\n",
    "    for size, unit, dtype in matches:\n",
    "        try:\n",
    "            num = float(size)\n",
    "            if unit == \"TB\" or (unit == \"GB\" and num >= 128):\n",
    "                disk_type = dtype.strip() if dtype else \"SSD\"\n",
    "                results.add(f\"{int(num) if num.is_integer() else num} {unit} {disk_type}\")\n",
    "        except:\n",
    "            continue\n",
    "\n",
    "    return \" / \".join(sorted(results)) if results else None\n"
   ]
  },
  {
   "cell_type": "markdown",
   "id": "e19b5791-9998-4992-abc9-fe0ab62df6bc",
   "metadata": {},
   "source": [
    "**Функција за земање на РАМ меморија за секој лаптоп**"
   ]
  },
  {
   "cell_type": "code",
   "execution_count": 31,
   "id": "bd4907ae-4565-45b2-b9c2-2665eea3fd9e",
   "metadata": {},
   "outputs": [],
   "source": [
    "\n",
    "def extract_ram(title):\n",
    "    if not isinstance(title, str):\n",
    "        return None\n",
    "    match = re.search(r'(?<!\\d)(\\d{1,2})\\s?GB(?!\\s?(SSD|HDD))', title, re.IGNORECASE)\n",
    "    return match.group(1) + \" GB\" if match else None"
   ]
  },
  {
   "cell_type": "markdown",
   "id": "2cada870-ce75-449c-8918-4f26a0c7a774",
   "metadata": {},
   "source": [
    "**Функција за земање на брендот на секој лаптоп**"
   ]
  },
  {
   "cell_type": "code",
   "execution_count": 32,
   "id": "40b5e2c3-efa5-458c-bb38-8aedce103797",
   "metadata": {},
   "outputs": [],
   "source": [
    "def extract_brand(title):\n",
    "    if not isinstance(title, str):\n",
    "        return \"Notebook\"\n",
    "    title = title.lower()\n",
    "    known_brands = [\"hp\", \"lenovo\", \"asus\", \"acer\", \"apple\", \"dell\", \"msi\", \"gigabyte\", \"huawei\", \"microsoft\", \"razer\"]\n",
    "    if \"thinkbook\" in title or \"loq\" in title:\n",
    "        return \"Lenovo\"\n",
    "    for brand in known_brands:\n",
    "        if brand in title:\n",
    "            return brand.capitalize()\n",
    "    match = re.search(r'лаптоп\\s+([A-Za-zА-Яа-я0-9]+)', title)\n",
    "    if match:\n",
    "        return match.group(1).capitalize()\n",
    "    return title.split()[0].capitalize() if title else \"Notebook\""
   ]
  },
  {
   "cell_type": "markdown",
   "id": "c5c5e157-21a0-40ac-9a0a-54ff480804ce",
   "metadata": {},
   "source": [
    "**Функција за земање на процесорите на секој лаптоп**"
   ]
  },
  {
   "cell_type": "code",
   "execution_count": 33,
   "id": "b9034c0e-177e-4935-8684-883f1d1d3cec",
   "metadata": {},
   "outputs": [],
   "source": [
    "def extract_cpu(title):\n",
    "    if not isinstance(title, str):\n",
    "        return \"Unknown\"\n",
    "\n",
    "    title = title.upper().replace(\"®\", \"\").replace(\"™\", \"\").replace(\"-\", \" \")\n",
    "    title = re.sub(r\"\\s+\", \" \", title)\n",
    "\n",
    "    patterns = [\n",
    "        r'INTEL CORE ULTRA \\d+ \\d{3,5}[A-Z]*',\n",
    "        r'INTEL CORE I[3579] \\d{3,5}[A-Z]*',\n",
    "        r'INTEL CORE I[3579]',\n",
    "        r'INTEL I[3579] \\d{3,5}[A-Z]*',\n",
    "        r'I[3579] \\d{3,5}[A-Z]*',\n",
    "        r'I[3579]-\\d{3,5}[A-Z]*',\n",
    "        r'INTEL \\d',\n",
    "        r'CORE I[3579] \\d{3,5}[A-Z]*',\n",
    "        r'CORE [3579]',\n",
    "        r'INTEL [3579]',\n",
    "        r'AMD RYZEN \\d \\d{3,5}[A-Z]*',\n",
    "        r'RYZEN \\d \\d{3,5}[A-Z]*',\n",
    "        r'RYZEN\\d \\d{3,5}[A-Z]*',\n",
    "        r'RYZEN[3579] \\d{3,5}[A-Z]*',\n",
    "        r'RYZEN [3579]',\n",
    "        r'RYZEN[3579]',\n",
    "        r'R[3579] \\d{3,5}[A-Z]*',\n",
    "        r'R[3579]-\\d{3,5}[A-Z]*',\n",
    "        r'APPLE M[1234]',\n",
    "        r'M[1234]',\n",
    "        r'INTEL UHD',\n",
    "        r'INTEL XE',\n",
    "        r'VEGA \\d+',\n",
    "        r'ADRENO \\d+',\n",
    "        r'SNAPDRAGON\\s+[A-Z]*\\s?X?[A-Z]*[\\w\\-]+',\n",
    "        r'CORE\\s+ULTRA\\s+[Uu]?\\d[- ]?\\d{3,5}[A-Z]*',\n",
    "        r'ULTRA\\s+\\d\\s+\\d{3,5}[A-Z]*',\n",
    "        r'U\\d-\\d{3,5}[A-Z]*',                 \n",
    "        r'ULTRA\\s+\\d\\s+\\d{3,5}[A-Z]*',\n",
    "        r'RYZEN\\s+AI\\s+\\d\\s+HX\\s+\\d{3}',      \n",
    "        r'R\\d-AI\\s+\\d{3}',                    \n",
    "        r'R\\d\\s+AI\\s+\\d{3}',\n",
    "        r'PENTIUM\\s?\\d{0,5}[A-Z]*',\n",
    "        r'CELERON\\s?\\d{0,5}[A-Z]*'\n",
    "\n",
    "    ]\n",
    "\n",
    "    for pattern in patterns:\n",
    "        match = re.search(pattern, title)\n",
    "        if match:\n",
    "            return match.group(0).strip()\n",
    "\n",
    "    return \"Unknown\""
   ]
  },
  {
   "cell_type": "markdown",
   "id": "b055df5d-d2b4-4fae-b0e4-8517f8b9d61f",
   "metadata": {},
   "source": [
    "**Нормализација на колоната за цени**"
   ]
  },
  {
   "cell_type": "code",
   "execution_count": 34,
   "id": "83bad855-97b7-46ec-86c3-c74280fd59ae",
   "metadata": {},
   "outputs": [],
   "source": [
    "def normalize_price(val):\n",
    "    if not val or \"No price\" in val:\n",
    "        return None\n",
    "    return float(val.replace(\"ден.\", \"\").replace(\"MKD\", \"\").replace(\",\", \"\").replace(\".\", \"\").strip())"
   ]
  },
  {
   "cell_type": "markdown",
   "id": "c36bcb5e-3d60-43fd-b00c-c5cf13480b36",
   "metadata": {},
   "source": [
    "**СОБИРАЊЕ НА ПОДАТОЦИ И КРЕИРАЊЕ НА ДАТАСЕТ**"
   ]
  },
  {
   "cell_type": "code",
   "execution_count": null,
   "id": "e4c0ee6a-9a2d-4204-860d-26e0c00cd877",
   "metadata": {},
   "outputs": [],
   "source": [
    "# ---- Setup ----\n",
    "options = Options()\n",
    "options.add_argument(\"--headless\")\n",
    "options.add_argument(\"--disable-gpu\")\n",
    "options.add_argument(\"--window-size=1920,1080\")\n",
    "service = Service()\n",
    "driver = webdriver.Chrome(service=service, options=options)\n",
    "results = []\n",
    "\n",
    "#------ВЕБ СКРЕЈПИНГ ЗА САЈТ:\n",
    "\n",
    "# 1-------- ANHOCH --------\n",
    "for page in range(1, 6):\n",
    "    driver.get(f\"https://www.anhoch.com/categories/site-laptopi/products?brand=&attribute=&toPrice=324980&inStockOnly=2&sort=latest&perPage=20&page={page}\")\n",
    "    time.sleep(5)\n",
    "    soup = BeautifulSoup(driver.page_source, 'html.parser')\n",
    "    products = soup.find_all(\"div\", class_=\"product-card\")\n",
    "    for product in products:\n",
    "        title = product.get(\"title\")\n",
    "        price_tag = product.find(\"div\", class_=\"product-price\")\n",
    "        price = price_tag.get_text(strip=True).split(\"ден\")[0].strip() + \" ден.\" if price_tag else \"No price\"\n",
    "        discount_tag = price_tag.find(\"span\", class_=\"previous-price\") if price_tag else None\n",
    "        discount_price = discount_tag.get_text(strip=True) if discount_tag else None\n",
    "        p = normalize_price(price)\n",
    "        dp = normalize_price(discount_price)\n",
    "        if p and dp and dp > p:\n",
    "            price, discount_price = discount_price, price\n",
    "        results.append({\n",
    "            \"Prodavnica\": \"Anhoch\",\n",
    "            \"Ime\": title,\n",
    "            \"Brend\": extract_brand(title),\n",
    "            \"Procesor\": extract_cpu(title),\n",
    "            \"RAM_Memorija\": extract_ram(title),\n",
    "            \"Kapacitet\": extract_storage(title),\n",
    "            \"Cena\": price,\n",
    "            \"Klub/Smart/Happy cena\": discount_price\n",
    "        })\n",
    "        \n",
    "# 2 -------- TEHNOMARKET --------\n",
    "driver.get(\"https://www.tehnomarket.com.mk/category/4003/laptopi\")\n",
    "time.sleep(5)\n",
    "soup = BeautifulSoup(driver.page_source, \"html.parser\")\n",
    "products = soup.find_all(\"li\", class_=\"span4\")\n",
    "\n",
    "for product in products:\n",
    "    title_tag = product.find(\"div\", class_=\"product-name\")\n",
    "    title = title_tag.text.strip() if title_tag else \"No title\"\n",
    "\n",
    "    # Цени на лаптопите заедно со попуст цена ако ја има\n",
    "    price_spans = product.find_all(\"span\", class_=\"nm\")\n",
    "    if price_spans:\n",
    "        price = price_spans[0].text.strip() + \" ден.\" if len(price_spans) > 0 else \"No price\"\n",
    "        discount_price = price_spans[1].text.strip() + \" ден.\" if len(price_spans) > 1 else None\n",
    "    else:\n",
    "        price = \"No price\"\n",
    "        discount_price = None\n",
    "\n",
    "    # средување на цените ако има потреба\n",
    "    p = normalize_price(price)\n",
    "    dp = normalize_price(discount_price)\n",
    "    if p and dp and dp > p:\n",
    "        price, discount_price = discount_price, price\n",
    "\n",
    "    results.append({\n",
    "        \"Prodavnica\": \"Tehnomarket\",\n",
    "        \"Ime\": title,\n",
    "        \"Brend\": extract_brand(title),\n",
    "        \"Procesor\": extract_cpu(title),\n",
    "        \"RAM_Memorija\": extract_ram(title),\n",
    "        \"Kapacitet\": extract_storage(title),\n",
    "        \"Cena\": price,\n",
    "        \"Klub/Smart/Happy cena\": discount_price\n",
    "    })\n",
    "\n",
    "\n",
    "# 3 -------- GJIRAFA50 --------\n",
    "for page in range(1, 6):\n",
    "    driver.get(f\"https://gjirafa50.mk/gaming-laptop?pagenumber={page}\")\n",
    "    time.sleep(5)\n",
    "    soup = BeautifulSoup(driver.page_source, \"html.parser\")\n",
    "    products = soup.find_all(\"div\", class_=\"item-box\")\n",
    "    for product in products:\n",
    "        title_tag = product.find(\"h3\", class_=\"product-title\")\n",
    "        title = title_tag.text.strip() if title_tag else \"No title\"\n",
    "        price_tag = product.find(\"span\", class_=\"price\")\n",
    "        price = price_tag.text.strip() if price_tag else \"No price\"\n",
    "        discount_tag = product.find(\"span\", class_=\"old-price\")\n",
    "        discount_price = discount_tag.text.strip() if discount_tag else None\n",
    "        p = normalize_price(price)\n",
    "        dp = normalize_price(discount_price)\n",
    "        if p and dp and dp > p:\n",
    "            price, discount_price = discount_price, price\n",
    "        results.append({\n",
    "            \"Prodavnica\": \"Gjirafa50\",\n",
    "            \"Ime\": html.unescape(title),\n",
    "            \"Brend\": extract_brand(title),\n",
    "            \"Procesor\": extract_cpu(title),\n",
    "            \"RAM_Memorija\": extract_ram(title),\n",
    "            \"Kapacitet\": extract_storage(title),\n",
    "            \"Cena\": price,\n",
    "            \"Klub/Smart/Happy cena\": discount_price\n",
    "        })\n",
    "\n",
    "# 4 -------- NEPTUN --------\n",
    "for page in range(1, 6):\n",
    "    driver.get(f\"https://www.neptun.mk/prenosni_kompjuteri.nspx?page={page}\")\n",
    "    time.sleep(5)\n",
    "    soup = BeautifulSoup(driver.page_source, \"html.parser\")\n",
    "    products = soup.find_all(\"div\", class_=\"white-box\")\n",
    "    if not products:\n",
    "        break\n",
    "\n",
    "    for product in products:\n",
    "        title_tag = product.find(\"h2\", class_=\"product-list-item__content--title\")\n",
    "        title = title_tag.get_text(strip=True) if title_tag else \"No title\"\n",
    "\n",
    "        # обична цена\n",
    "        regular_price_tag = product.select_one(\".newPriceModel .product-price__amount--value\")\n",
    "        price = regular_price_tag.get_text(strip=True) + \" ден.\" if regular_price_tag else \"No price\"\n",
    "\n",
    "        # Happy цена\n",
    "        happy_price_tag = product.select_one(\".HappyCard .product-price__amount--value\")\n",
    "        discount_price = happy_price_tag.get_text(strip=True) + \" ден.\" if happy_price_tag else None\n",
    "\n",
    "        # нормализирање и средување на приоритетот на цените \n",
    "        p = normalize_price(price)\n",
    "        dp = normalize_price(discount_price)\n",
    "        if p and dp and dp > p:\n",
    "            price, discount_price = discount_price, price\n",
    "\n",
    "        results.append({\n",
    "            \"Prodavnica\": \"Neptun\",\n",
    "            \"Ime\": title,\n",
    "            \"Brend\": extract_brand(title),\n",
    "            \"Procesor\": extract_cpu(title),\n",
    "            \"RAM_Memorija\": extract_ram(title),\n",
    "            \"Kapacitet\": extract_storage(title),\n",
    "            \"Cena\": price,\n",
    "            \"Klub/Smart/Happy cena\": discount_price\n",
    "        })\n",
    "\n",
    "\n",
    "# ---- ЕКСПОРТ ----\n",
    "driver.quit()\n",
    "df = pd.DataFrame(results)\n",
    "df[\"Klub/Smart/Happy cena\"] = df[\"Klub/Smart/Happy cena\"].where(df[\"Klub/Smart/Happy cena\"].notnull(), pd.NA)\n",
    "df.to_csv(\"laptops_merged.csv\", index=False, encoding='utf-8-sig')\n",
    "print(df.head())\n",
    "print(f\"Vkupno vcitani podatoci: {len(df)}\")\n",
    "print(\"Zacuvano kako fajl : 'laptops_merged.csv'\")\n"
   ]
  },
  {
   "cell_type": "markdown",
   "id": "c6d7b457-4077-43a0-936f-548d8141008f",
   "metadata": {},
   "source": [
    "# ПРЕДПРОЦЕСИРАЊЕ И СТАНДАРДИЗАЦИЈА НА ПОДАТОЦИ"
   ]
  },
  {
   "cell_type": "code",
   "execution_count": null,
   "id": "3181ba5e-3876-4532-9740-30b2356f1003",
   "metadata": {},
   "outputs": [],
   "source": [
    "# ВЧИТУВАЊЕ НА ПОДАТОЧНО МНОЖЕСТВО\n",
    "df1 = pd.read_csv(\"laptops_merged.csv\")\n",
    "\n",
    "# ПРЕГЛЕД\n",
    "print(df1.columns)\n",
    "print(df1.head())\n"
   ]
  },
  {
   "cell_type": "code",
   "execution_count": null,
   "id": "b3887c24-b74f-4d97-916c-1902e7c3e2c5",
   "metadata": {},
   "outputs": [],
   "source": [
    "df1"
   ]
  },
  {
   "cell_type": "code",
   "execution_count": null,
   "id": "59913abb-8034-419f-b5ed-b8acf14e1ac4",
   "metadata": {},
   "outputs": [],
   "source": [
    "df1.info()"
   ]
  },
  {
   "cell_type": "code",
   "execution_count": null,
   "id": "bdeb170e-de1f-4100-b438-2158b996e63b",
   "metadata": {},
   "outputs": [],
   "source": [
    "df1.isnull().sum()"
   ]
  },
  {
   "cell_type": "markdown",
   "id": "6caae2e5-01e5-4d4e-988b-fc2ca95062c1",
   "metadata": {},
   "source": [
    "**Чистење на цените**"
   ]
  },
  {
   "cell_type": "code",
   "execution_count": null,
   "id": "256c4bb0-477f-414a-9629-50f9387ee25f",
   "metadata": {},
   "outputs": [],
   "source": [
    "def clean_price(value):\n",
    "    if pd.isna(value):\n",
    "        return None\n",
    "    value = str(value).replace(\"ден.\", \"\").replace(\"MKD\", \"\").replace(\",\", \"\").replace(\".\", \"\").strip()\n",
    "    try:\n",
    "        return float(value)\n",
    "    except ValueError:\n",
    "        return None\n",
    "\n",
    "df1[\"Cena\"] = df1[\"Cena\"].apply(clean_price)\n",
    "df1[\"Klub/Smart/Happy cena\"] = df1[\"Klub/Smart/Happy cena\"].apply(clean_price)\n"
   ]
  },
  {
   "cell_type": "code",
   "execution_count": null,
   "id": "69bf37e8-e5fe-4376-b700-4633da0bead7",
   "metadata": {},
   "outputs": [],
   "source": [
    "df1"
   ]
  },
  {
   "cell_type": "markdown",
   "id": "3cfb0dd2-a803-431b-9b6d-1bd8d3f4ec2b",
   "metadata": {},
   "source": [
    "**Чистење/Стандардизирање на колоната за РАМ меморија**"
   ]
  },
  {
   "cell_type": "code",
   "execution_count": null,
   "id": "52a9c84f-c39f-405d-afbe-0d52ec9fb419",
   "metadata": {},
   "outputs": [],
   "source": [
    "def standardize_ram(ram):\n",
    "    if pd.isna(ram):\n",
    "        return None\n",
    "    match = re.search(r'(\\d{1,2})', str(ram))\n",
    "    return int(match.group(1)) if match else None\n",
    "\n",
    "df1[\"RAM_Memorija\"] = df1[\"RAM_Memorija\"].apply(standardize_ram)\n"
   ]
  },
  {
   "cell_type": "markdown",
   "id": "fa59c70f-48ca-4a13-a36d-104060163d32",
   "metadata": {},
   "source": [
    "**Претворање на капацитетот во вкупно GB меморија**"
   ]
  },
  {
   "cell_type": "code",
   "execution_count": null,
   "id": "badc0315-b978-4508-a7d8-4ca078434442",
   "metadata": {},
   "outputs": [],
   "source": [
    "def extract_total_storage_gb(val):\n",
    "    if not isinstance(val, str):\n",
    "        return None\n",
    "\n",
    "    total = 0\n",
    "    parts = val.upper().split(\"/\")\n",
    "    for part in parts:\n",
    "        match = re.search(r'(\\d+(?:\\.\\d+)?)\\s*(TB|GB)', part)\n",
    "        if match:\n",
    "            size, unit = match.groups()\n",
    "            gb = float(size) * (1024 if unit == \"TB\" else 1)\n",
    "            total += gb\n",
    "    return int(total) if total > 0 else None\n",
    "\n",
    "\n",
    "df1[\"Kapacitet\"] = df1[\"Kapacitet\"].apply(extract_total_storage_gb)\n",
    "\n"
   ]
  },
  {
   "cell_type": "markdown",
   "id": "f7ac15df-7d3d-4161-b06c-d0f11c676532",
   "metadata": {},
   "source": [
    "**Стандардизирање на имињата на процесорите, почисто и порубстно**"
   ]
  },
  {
   "cell_type": "code",
   "execution_count": null,
   "id": "74b6586d-7b84-47ff-bfd9-9af3d556baaf",
   "metadata": {},
   "outputs": [],
   "source": [
    "def clean_procesor(cpu):\n",
    "    if pd.isna(cpu) or cpu.strip().lower() == \"unknown\":\n",
    "        return None\n",
    "    cpu = cpu.strip().upper()\n",
    "    \n",
    "    # Standardize spacing\n",
    "    cpu = re.sub(r'\\s+', ' ', cpu)\n",
    "    \n",
    "    # Normalize common patterns\n",
    "    cpu = cpu.replace(\"INTEL CORE \", \"I\").replace(\"CORE \", \"I\")\n",
    "    cpu = cpu.replace(\"AMD RYZEN\", \"RYZEN\")\n",
    "    cpu = cpu.replace(\"RYZEN R\", \"RYZEN \")\n",
    "    cpu = cpu.replace(\"M1\", \"M1\").replace(\"M2\", \"M2\").replace(\"M3\", \"M3\")\n",
    "    \n",
    "    # Fix AI series spacing\n",
    "    cpu = cpu.replace(\"HX \", \"HX\")\n",
    "\n",
    "    return cpu.strip().title()\n",
    "\n",
    "df1[\"Procesor\"] = df1[\"Procesor\"].apply(clean_procesor)\n"
   ]
  },
  {
   "cell_type": "code",
   "execution_count": null,
   "id": "e4a80524-58b9-468b-895d-03a7840d5d75",
   "metadata": {},
   "outputs": [],
   "source": [
    "df1"
   ]
  },
  {
   "cell_type": "markdown",
   "id": "65859b24-f5ae-4ae9-98f6-bea064fa74ab",
   "metadata": {},
   "source": [
    "**Чистење на имињата, односно тргање на префикси пред имињата на моделите**"
   ]
  },
  {
   "cell_type": "code",
   "execution_count": null,
   "id": "fc0e2b39-ad85-43f3-a0af-9401598784a5",
   "metadata": {},
   "outputs": [],
   "source": [
    "def clean_name(name):\n",
    "    if not isinstance(name, str):\n",
    "        return name\n",
    "    # Remove common clutter words from the beginning\n",
    "    return re.sub(r'^(Notebook|Лаптоп|Laptop)\\s+', '', name, flags=re.IGNORECASE).strip()\n",
    "\n",
    "df1[\"Ime\"] = df1[\"Ime\"].apply(clean_name)\n"
   ]
  },
  {
   "cell_type": "code",
   "execution_count": null,
   "id": "cf97fe89-3b03-47e9-828d-253ee3f2e7d3",
   "metadata": {},
   "outputs": [],
   "source": [
    "df1"
   ]
  },
  {
   "cell_type": "code",
   "execution_count": null,
   "id": "51a312d0-996d-4c6d-92cb-6f4523b962e9",
   "metadata": {},
   "outputs": [],
   "source": [
    "df1.isnull().sum()"
   ]
  },
  {
   "cell_type": "code",
   "execution_count": null,
   "id": "f14d60fe-41e7-45b4-9cc3-e8e0adf4ea49",
   "metadata": {},
   "outputs": [],
   "source": [
    "df1.info()"
   ]
  },
  {
   "cell_type": "code",
   "execution_count": null,
   "id": "6cf73d3c-b9c7-4b32-98f3-0f33eb137b30",
   "metadata": {},
   "outputs": [],
   "source": [
    "df1 = df1[df1['Ime'] != \"No title\"]"
   ]
  },
  {
   "cell_type": "code",
   "execution_count": null,
   "id": "03774f04-6ff0-4859-82a2-3a5d3c7c7005",
   "metadata": {},
   "outputs": [],
   "source": [
    "df1.isnull().sum()"
   ]
  },
  {
   "cell_type": "markdown",
   "id": "4cd13755-b50a-4b7a-9161-ecbf77007b29",
   "metadata": {},
   "source": [
    "**Податоците кои фалат за процесор, рам и капацитет се всушност податоци кај кои не беа наведени претходно наведените, додека во колоната за клуб цените, missing values се лаптопите кои не се на попуст и немаат клуб/haPPy цени**"
   ]
  },
  {
   "cell_type": "markdown",
   "id": "12db97c3-ca80-4f1f-8383-a703fc831108",
   "metadata": {},
   "source": [
    "# Експортирање"
   ]
  },
  {
   "cell_type": "code",
   "execution_count": null,
   "id": "dd3c0604-3388-4c36-bbff-183aa537e4a9",
   "metadata": {},
   "outputs": [],
   "source": [
    "df1.to_csv(\"laptopi_test_sredeni.csv\", index=False, encoding='utf-8-sig')"
   ]
  },
  {
   "cell_type": "code",
   "execution_count": null,
   "id": "e3e143c0-a492-47d5-b89e-e849cd67bd31",
   "metadata": {},
   "outputs": [],
   "source": []
  }
 ],
 "metadata": {
  "kernelspec": {
   "display_name": "Python 3 (ipykernel)",
   "language": "python",
   "name": "python3"
  },
  "language_info": {
   "codemirror_mode": {
    "name": "ipython",
    "version": 3
   },
   "file_extension": ".py",
   "mimetype": "text/x-python",
   "name": "python",
   "nbconvert_exporter": "python",
   "pygments_lexer": "ipython3",
   "version": "3.13.3"
  }
 },
 "nbformat": 4,
 "nbformat_minor": 5
}
